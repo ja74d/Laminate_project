{
 "cells": [
  {
   "cell_type": "code",
   "execution_count": 2,
   "metadata": {},
   "outputs": [],
   "source": [
    "import sympy as sp"
   ]
  },
  {
   "cell_type": "code",
   "execution_count": 106,
   "metadata": {},
   "outputs": [],
   "source": [
    "x, y = sp.symbols('x y')\n",
    "a, b = sp.symbols('a b', positive=True, integer=True)"
   ]
  },
  {
   "cell_type": "code",
   "execution_count": 162,
   "metadata": {},
   "outputs": [],
   "source": [
    "m, n = sp.symbols('m n', positive=True, integer=True)\n",
    "#m, n = 1, 1"
   ]
  },
  {
   "cell_type": "code",
   "execution_count": 163,
   "metadata": {},
   "outputs": [],
   "source": [
    "f1 = x*(sp.sin((m*sp.pi*x)/a))*(sp.sin((n*sp.pi*y)/b))"
   ]
  },
  {
   "cell_type": "code",
   "execution_count": 164,
   "metadata": {},
   "outputs": [],
   "source": [
    "f2 = (1-(x/a))*(sp.sin((m*sp.pi*x)/a))*(sp.sin((n*sp.pi*y)/b))"
   ]
  },
  {
   "cell_type": "code",
   "execution_count": 165,
   "metadata": {},
   "outputs": [],
   "source": [
    "integral_f1 = sp.integrate(f1, (x, 0, (a/2)), (y, 0, b))"
   ]
  },
  {
   "cell_type": "code",
   "execution_count": 166,
   "metadata": {},
   "outputs": [],
   "source": [
    "integral_f2 = sp.integrate(f2, (x, (a/2), (a)), (y, 0, b))"
   ]
  },
  {
   "cell_type": "code",
   "execution_count": 167,
   "metadata": {},
   "outputs": [],
   "source": [
    "result = (2/a)*integral_f1 + 2*integral_f2"
   ]
  },
  {
   "cell_type": "code",
   "execution_count": 168,
   "metadata": {},
   "outputs": [
    {
     "name": "stdout",
     "output_type": "stream",
     "text": [
      "-2*(-1)**n*b*(a*cos(pi*m/2)/(2*pi*m) + a*sin(pi*m/2)/(pi**2*m**2))/(pi*n) + 2*b*(a*cos(pi*m/2)/(2*pi*m) + a*sin(pi*m/2)/(pi**2*m**2))/(pi*n) + 2*(-(-1)**n*b*(-a**2*cos(pi*m/2)/(2*pi*m) + a**2*sin(pi*m/2)/(pi**2*m**2))/(pi*n) + b*(-a**2*cos(pi*m/2)/(2*pi*m) + a**2*sin(pi*m/2)/(pi**2*m**2))/(pi*n))/a\n"
     ]
    }
   ],
   "source": [
    "print(result)"
   ]
  },
  {
   "cell_type": "code",
   "execution_count": null,
   "metadata": {},
   "outputs": [],
   "source": []
  }
 ],
 "metadata": {
  "kernelspec": {
   "display_name": "Python 3",
   "language": "python",
   "name": "python3"
  },
  "language_info": {
   "codemirror_mode": {
    "name": "ipython",
    "version": 3
   },
   "file_extension": ".py",
   "mimetype": "text/x-python",
   "name": "python",
   "nbconvert_exporter": "python",
   "pygments_lexer": "ipython3",
   "version": "3.8.10"
  }
 },
 "nbformat": 4,
 "nbformat_minor": 4
}
